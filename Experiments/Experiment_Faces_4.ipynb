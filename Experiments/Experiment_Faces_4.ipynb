{
 "cells": [
  {
   "cell_type": "markdown",
   "metadata": {},
   "source": [
    "# Classificação a partir de rostos usando Perceptron Multicamadas\n",
    "\n",
    "Este *notebook* apresenta o uso do Perceptron Multicamadas para classificação de rostos a partir da base de dados chamada *faces* criada por [Tom Mitchell](http://www.cs.cmu.edu/~tom/) em seu livro *[Machine Learning](http://www.cs.cmu.edu/afs/cs.cmu.edu/user/mitchell/ftp/mlbook.html)*, tal base está disponível em [aqui](http://www.cs.cmu.edu/afs/cs.cmu.edu/user/mitchell/ftp/faces.html)."
   ]
  },
  {
   "cell_type": "code",
   "execution_count": 22,
   "metadata": {
    "collapsed": true
   },
   "outputs": [],
   "source": [
    "import pandas as pd\n",
    "import matplotlib.pyplot as plt\n",
    "import numpy as np\n",
    "%matplotlib inline"
   ]
  },
  {
   "cell_type": "markdown",
   "metadata": {},
   "source": [
    "## Faces Dataset\n",
    "\n",
    "Este dataset possui diversas imagens de faces de diversas pessoas, cada pessoa é fotografada em diferentes orientações de cabeça, bem como apresentando diferentes estados de humor, e por fim usando óculos de sol, ou com os olhos abertos. Portanto, é possível termos redes neurais MLP classificar as imagens de acordo com:\n",
    "\n",
    "* Orientação: cabeça virada para cima, esquerda, direita ou frente.\n",
    "* Sentimento: triste, alegre, irado ou neutro.\n",
    "* Olhos: usando óculos de sol ou não.\n",
    "\n",
    "O dataset é dado em duas versões ambas em formato PGM a saber:\n",
    "\n",
    "* a primeira versão contém as imagens originais.\n",
    "* a segunda versão contém as mesmas imagens reduzidas (30x32) pixels.\n",
    "\n",
    "Neste *notebook* usaremos a segunda versão. A seguir temos o carregamento das imagens:"
   ]
  },
  {
   "cell_type": "code",
   "execution_count": 23,
   "metadata": {
    "collapsed": false
   },
   "outputs": [],
   "source": [
    "faces_4_df = pd.read_csv('../Datasets/Faces/faces_4/faces.csv')"
   ]
  },
  {
   "cell_type": "code",
   "execution_count": 24,
   "metadata": {},
   "outputs": [
    {
     "data": {
      "text/html": [
       "<div>\n",
       "<style>\n",
       "    .dataframe thead tr:only-child th {\n",
       "        text-align: right;\n",
       "    }\n",
       "\n",
       "    .dataframe thead th {\n",
       "        text-align: left;\n",
       "    }\n",
       "\n",
       "    .dataframe tbody tr th {\n",
       "        vertical-align: top;\n",
       "    }\n",
       "</style>\n",
       "<table border=\"1\" class=\"dataframe\">\n",
       "  <thead>\n",
       "    <tr style=\"text-align: right;\">\n",
       "      <th></th>\n",
       "      <th>Id</th>\n",
       "      <th>Col0</th>\n",
       "      <th>Col1</th>\n",
       "      <th>Col2</th>\n",
       "      <th>Col3</th>\n",
       "      <th>Col4</th>\n",
       "      <th>Col5</th>\n",
       "      <th>Col6</th>\n",
       "      <th>Col7</th>\n",
       "      <th>Col8</th>\n",
       "      <th>...</th>\n",
       "      <th>Col950</th>\n",
       "      <th>Col951</th>\n",
       "      <th>Col952</th>\n",
       "      <th>Col953</th>\n",
       "      <th>Col954</th>\n",
       "      <th>Col955</th>\n",
       "      <th>Col956</th>\n",
       "      <th>Col957</th>\n",
       "      <th>Col958</th>\n",
       "      <th>Col959</th>\n",
       "    </tr>\n",
       "  </thead>\n",
       "  <tbody>\n",
       "    <tr>\n",
       "      <th>count</th>\n",
       "      <td>418.000000</td>\n",
       "      <td>418.0</td>\n",
       "      <td>418.000000</td>\n",
       "      <td>418.000000</td>\n",
       "      <td>418.000000</td>\n",
       "      <td>418.000000</td>\n",
       "      <td>418.000000</td>\n",
       "      <td>418.000000</td>\n",
       "      <td>418.000000</td>\n",
       "      <td>418.000000</td>\n",
       "      <td>...</td>\n",
       "      <td>418.000000</td>\n",
       "      <td>418.000000</td>\n",
       "      <td>418.000000</td>\n",
       "      <td>418.000000</td>\n",
       "      <td>418.000000</td>\n",
       "      <td>418.000000</td>\n",
       "      <td>418.000000</td>\n",
       "      <td>418.000000</td>\n",
       "      <td>418.000000</td>\n",
       "      <td>418.000000</td>\n",
       "    </tr>\n",
       "    <tr>\n",
       "      <th>mean</th>\n",
       "      <td>208.500000</td>\n",
       "      <td>10.0</td>\n",
       "      <td>28.583732</td>\n",
       "      <td>31.191388</td>\n",
       "      <td>31.555024</td>\n",
       "      <td>31.019139</td>\n",
       "      <td>31.751196</td>\n",
       "      <td>29.437799</td>\n",
       "      <td>28.617225</td>\n",
       "      <td>27.129187</td>\n",
       "      <td>...</td>\n",
       "      <td>72.444976</td>\n",
       "      <td>69.772727</td>\n",
       "      <td>69.813397</td>\n",
       "      <td>70.483254</td>\n",
       "      <td>71.303828</td>\n",
       "      <td>69.672249</td>\n",
       "      <td>67.251196</td>\n",
       "      <td>64.354067</td>\n",
       "      <td>53.619617</td>\n",
       "      <td>32.535885</td>\n",
       "    </tr>\n",
       "    <tr>\n",
       "      <th>std</th>\n",
       "      <td>120.810458</td>\n",
       "      <td>0.0</td>\n",
       "      <td>13.472022</td>\n",
       "      <td>10.650620</td>\n",
       "      <td>8.576533</td>\n",
       "      <td>8.691053</td>\n",
       "      <td>9.382637</td>\n",
       "      <td>8.262028</td>\n",
       "      <td>9.522755</td>\n",
       "      <td>9.850322</td>\n",
       "      <td>...</td>\n",
       "      <td>41.775787</td>\n",
       "      <td>42.632539</td>\n",
       "      <td>41.999984</td>\n",
       "      <td>42.007319</td>\n",
       "      <td>40.566504</td>\n",
       "      <td>40.979907</td>\n",
       "      <td>41.257937</td>\n",
       "      <td>42.570849</td>\n",
       "      <td>43.047922</td>\n",
       "      <td>25.965110</td>\n",
       "    </tr>\n",
       "    <tr>\n",
       "      <th>min</th>\n",
       "      <td>0.000000</td>\n",
       "      <td>10.0</td>\n",
       "      <td>2.000000</td>\n",
       "      <td>7.000000</td>\n",
       "      <td>9.000000</td>\n",
       "      <td>8.000000</td>\n",
       "      <td>7.000000</td>\n",
       "      <td>6.000000</td>\n",
       "      <td>5.000000</td>\n",
       "      <td>5.000000</td>\n",
       "      <td>...</td>\n",
       "      <td>1.000000</td>\n",
       "      <td>3.000000</td>\n",
       "      <td>1.000000</td>\n",
       "      <td>4.000000</td>\n",
       "      <td>6.000000</td>\n",
       "      <td>5.000000</td>\n",
       "      <td>3.000000</td>\n",
       "      <td>0.000000</td>\n",
       "      <td>0.000000</td>\n",
       "      <td>0.000000</td>\n",
       "    </tr>\n",
       "    <tr>\n",
       "      <th>25%</th>\n",
       "      <td>104.250000</td>\n",
       "      <td>10.0</td>\n",
       "      <td>19.000000</td>\n",
       "      <td>25.250000</td>\n",
       "      <td>24.000000</td>\n",
       "      <td>26.000000</td>\n",
       "      <td>27.000000</td>\n",
       "      <td>25.000000</td>\n",
       "      <td>23.000000</td>\n",
       "      <td>21.000000</td>\n",
       "      <td>...</td>\n",
       "      <td>27.000000</td>\n",
       "      <td>26.000000</td>\n",
       "      <td>26.000000</td>\n",
       "      <td>24.000000</td>\n",
       "      <td>30.000000</td>\n",
       "      <td>24.000000</td>\n",
       "      <td>25.000000</td>\n",
       "      <td>24.000000</td>\n",
       "      <td>16.000000</td>\n",
       "      <td>12.250000</td>\n",
       "    </tr>\n",
       "    <tr>\n",
       "      <th>50%</th>\n",
       "      <td>208.500000</td>\n",
       "      <td>10.0</td>\n",
       "      <td>28.000000</td>\n",
       "      <td>33.000000</td>\n",
       "      <td>32.000000</td>\n",
       "      <td>31.000000</td>\n",
       "      <td>30.000000</td>\n",
       "      <td>28.000000</td>\n",
       "      <td>27.000000</td>\n",
       "      <td>25.000000</td>\n",
       "      <td>...</td>\n",
       "      <td>84.000000</td>\n",
       "      <td>73.000000</td>\n",
       "      <td>79.500000</td>\n",
       "      <td>82.000000</td>\n",
       "      <td>79.500000</td>\n",
       "      <td>77.500000</td>\n",
       "      <td>70.000000</td>\n",
       "      <td>56.500000</td>\n",
       "      <td>45.000000</td>\n",
       "      <td>28.500000</td>\n",
       "    </tr>\n",
       "    <tr>\n",
       "      <th>75%</th>\n",
       "      <td>312.750000</td>\n",
       "      <td>10.0</td>\n",
       "      <td>38.000000</td>\n",
       "      <td>37.000000</td>\n",
       "      <td>39.000000</td>\n",
       "      <td>37.000000</td>\n",
       "      <td>37.000000</td>\n",
       "      <td>35.000000</td>\n",
       "      <td>33.000000</td>\n",
       "      <td>31.000000</td>\n",
       "      <td>...</td>\n",
       "      <td>112.000000</td>\n",
       "      <td>112.000000</td>\n",
       "      <td>112.000000</td>\n",
       "      <td>111.000000</td>\n",
       "      <td>113.000000</td>\n",
       "      <td>112.000000</td>\n",
       "      <td>110.000000</td>\n",
       "      <td>109.000000</td>\n",
       "      <td>97.000000</td>\n",
       "      <td>45.000000</td>\n",
       "    </tr>\n",
       "    <tr>\n",
       "      <th>max</th>\n",
       "      <td>417.000000</td>\n",
       "      <td>10.0</td>\n",
       "      <td>53.000000</td>\n",
       "      <td>64.000000</td>\n",
       "      <td>55.000000</td>\n",
       "      <td>60.000000</td>\n",
       "      <td>58.000000</td>\n",
       "      <td>54.000000</td>\n",
       "      <td>53.000000</td>\n",
       "      <td>52.000000</td>\n",
       "      <td>...</td>\n",
       "      <td>138.000000</td>\n",
       "      <td>138.000000</td>\n",
       "      <td>138.000000</td>\n",
       "      <td>137.000000</td>\n",
       "      <td>137.000000</td>\n",
       "      <td>133.000000</td>\n",
       "      <td>135.000000</td>\n",
       "      <td>135.000000</td>\n",
       "      <td>135.000000</td>\n",
       "      <td>128.000000</td>\n",
       "    </tr>\n",
       "  </tbody>\n",
       "</table>\n",
       "<p>8 rows × 961 columns</p>\n",
       "</div>"
      ],
      "text/plain": [
       "               Id   Col0        Col1        Col2        Col3        Col4  \\\n",
       "count  418.000000  418.0  418.000000  418.000000  418.000000  418.000000   \n",
       "mean   208.500000   10.0   28.583732   31.191388   31.555024   31.019139   \n",
       "std    120.810458    0.0   13.472022   10.650620    8.576533    8.691053   \n",
       "min      0.000000   10.0    2.000000    7.000000    9.000000    8.000000   \n",
       "25%    104.250000   10.0   19.000000   25.250000   24.000000   26.000000   \n",
       "50%    208.500000   10.0   28.000000   33.000000   32.000000   31.000000   \n",
       "75%    312.750000   10.0   38.000000   37.000000   39.000000   37.000000   \n",
       "max    417.000000   10.0   53.000000   64.000000   55.000000   60.000000   \n",
       "\n",
       "             Col5        Col6        Col7        Col8     ...          Col950  \\\n",
       "count  418.000000  418.000000  418.000000  418.000000     ...      418.000000   \n",
       "mean    31.751196   29.437799   28.617225   27.129187     ...       72.444976   \n",
       "std      9.382637    8.262028    9.522755    9.850322     ...       41.775787   \n",
       "min      7.000000    6.000000    5.000000    5.000000     ...        1.000000   \n",
       "25%     27.000000   25.000000   23.000000   21.000000     ...       27.000000   \n",
       "50%     30.000000   28.000000   27.000000   25.000000     ...       84.000000   \n",
       "75%     37.000000   35.000000   33.000000   31.000000     ...      112.000000   \n",
       "max     58.000000   54.000000   53.000000   52.000000     ...      138.000000   \n",
       "\n",
       "           Col951      Col952      Col953      Col954      Col955      Col956  \\\n",
       "count  418.000000  418.000000  418.000000  418.000000  418.000000  418.000000   \n",
       "mean    69.772727   69.813397   70.483254   71.303828   69.672249   67.251196   \n",
       "std     42.632539   41.999984   42.007319   40.566504   40.979907   41.257937   \n",
       "min      3.000000    1.000000    4.000000    6.000000    5.000000    3.000000   \n",
       "25%     26.000000   26.000000   24.000000   30.000000   24.000000   25.000000   \n",
       "50%     73.000000   79.500000   82.000000   79.500000   77.500000   70.000000   \n",
       "75%    112.000000  112.000000  111.000000  113.000000  112.000000  110.000000   \n",
       "max    138.000000  138.000000  137.000000  137.000000  133.000000  135.000000   \n",
       "\n",
       "           Col957      Col958      Col959  \n",
       "count  418.000000  418.000000  418.000000  \n",
       "mean    64.354067   53.619617   32.535885  \n",
       "std     42.570849   43.047922   25.965110  \n",
       "min      0.000000    0.000000    0.000000  \n",
       "25%     24.000000   16.000000   12.250000  \n",
       "50%     56.500000   45.000000   28.500000  \n",
       "75%    109.000000   97.000000   45.000000  \n",
       "max    135.000000  135.000000  128.000000  \n",
       "\n",
       "[8 rows x 961 columns]"
      ]
     },
     "execution_count": 24,
     "metadata": {},
     "output_type": "execute_result"
    }
   ],
   "source": [
    "faces_4_df.describe()"
   ]
  },
  {
   "cell_type": "markdown",
   "metadata": {},
   "source": [
    "São 418 instâncias formadas por 964 colunas formadas pelo Id, vetor de pixels (matriz (30x32) vetorizada (960)) e \n",
    "3 colunas uma para cada classe (Orientação, Sentimento, Olhos)."
   ]
  },
  {
   "cell_type": "code",
   "execution_count": 25,
   "metadata": {},
   "outputs": [
    {
     "name": "stdout",
     "output_type": "stream",
     "text": [
      "<class 'pandas.core.frame.DataFrame'>\n",
      "RangeIndex: 418 entries, 0 to 417\n",
      "Columns: 964 entries, Id to Eyes\n",
      "dtypes: int64(961), object(3)\n",
      "memory usage: 3.1+ MB\n"
     ]
    }
   ],
   "source": [
    "faces_4_df.info()"
   ]
  },
  {
   "cell_type": "code",
   "execution_count": 26,
   "metadata": {},
   "outputs": [],
   "source": [
    "def plot_as_figure(matpixels,ax=None):\n",
    "    if ax == None:\n",
    "        plt.imshow(matpixels,plt.cm.gray)\n",
    "    else:\n",
    "        ax.imshow(matpixels,plt.cm.gray)"
   ]
  },
  {
   "cell_type": "markdown",
   "metadata": {},
   "source": [
    "## Exemplo de imagens no dataset\n",
    "\n",
    "A seguir temos a exibição das quatro primeiras imagens a partir do dataset. É possível verificar que as imagens possuem baixa resolução."
   ]
  },
  {
   "cell_type": "code",
   "execution_count": 27,
   "metadata": {},
   "outputs": [
    {
     "data": {
      "image/png": "[encoded data removed]",
      "text/plain": [
       "<matplotlib.figure.Figure at 0x11238d198>"
      ]
     },
     "metadata": {},
     "output_type": "display_data"
    }
   ],
   "source": [
    "# simple data array plot, just for verification\n",
    "fig, ax = plt.subplots(1,4,figsize=(12,12))\n",
    "for i in range(4):\n",
    "    plot_as_figure(faces_4_df.drop(['Id','Orientation','Sentiment','Eyes'],axis=1).values[i].reshape((30,32)),ax[i])\n",
    "fig.tight_layout()"
   ]
  },
  {
   "cell_type": "markdown",
   "metadata": {},
   "source": [
    "## Distribuição entre as classes\n",
    "\n",
    "A seguir temos a distribuição entre os valores de cada classe, a qual mostra equilibrio na distribuição de valores entre classes."
   ]
  },
  {
   "cell_type": "code",
   "execution_count": 28,
   "metadata": {},
   "outputs": [
    {
     "data": {
      "image/png": "[encoded data removed]",
      "text/plain": [
       "<matplotlib.figure.Figure at 0x10bb70dd8>"
      ]
     },
     "metadata": {},
     "output_type": "display_data"
    }
   ],
   "source": [
    "# distribution over classes\n",
    "fig, ax = plt.subplots(1,3,figsize=(10,4))\n",
    "faces_4_df.Orientation.value_counts().plot.bar(ax=ax[0])\n",
    "ax[0].set_title('Orientation')\n",
    "faces_4_df.Sentiment.value_counts().plot.bar(ax=ax[1])\n",
    "ax[1].set_title('Sentiment')\n",
    "faces_4_df.Eyes.value_counts().plot.bar(ax=ax[2])\n",
    "ax[2].set_title('Eyes')\n",
    "fig.tight_layout()\n",
    "plt.show()"
   ]
  },
  {
   "cell_type": "markdown",
   "metadata": {},
   "source": [
    "## Pre-processamento\n",
    "\n",
    "### Binarização das classes\n",
    "\n",
    "Uma vez que desejamos treinar **MLP**'s para classificação e tais modelos apenas conseguem trabalhar com dados numéricos, as classes presentes devem passar por um pré-processamento, pois possuem valores categóricos, i. e., a classe **Orientação** possui os seguintes valores categóricos **left**, **right**, **straight** e **up**.\n",
    "\n",
    "Sendo assim, cada classe será binarizada, ou seja, seus valores serão transformados em colunas contendo (0,1) nesse caso, onde 0 indica que a instância não foi classificada com o dado valor em questão e 1 caso contrário."
   ]
  },
  {
   "cell_type": "code",
   "execution_count": 29,
   "metadata": {},
   "outputs": [],
   "source": [
    "from sklearn.preprocessing import LabelBinarizer"
   ]
  },
  {
   "cell_type": "markdown",
   "metadata": {},
   "source": [
    "#### Binarizando a classe Orientation\n",
    "\n",
    "Apresentando valores a serem binarizados, e a binarização das 10 primeiras instâncias."
   ]
  },
  {
   "cell_type": "code",
   "execution_count": 30,
   "metadata": {},
   "outputs": [
    {
     "name": "stdout",
     "output_type": "stream",
     "text": [
      "['left' 'right' 'straight' 'up']\n",
      "[[0 0 0 1]\n",
      " [1 0 0 0]\n",
      " [1 0 0 0]\n",
      " [1 0 0 0]\n",
      " [0 1 0 0]\n",
      " [0 0 0 1]\n",
      " [0 1 0 0]\n",
      " [0 1 0 0]\n",
      " [0 0 1 0]\n",
      " [0 0 1 0]]\n"
     ]
    }
   ],
   "source": [
    "# binarizing classes for Orientation\n",
    "enc = LabelBinarizer()\n",
    "y_orientation = enc.fit_transform(faces_4_df.Orientation.values)\n",
    "orientarion_classes = enc.classes_\n",
    "print(orientarion_classes)\n",
    "print(y_orientation[0:10])"
   ]
  },
  {
   "cell_type": "markdown",
   "metadata": {},
   "source": [
    "#### Binarizando a classe Sentiment\n",
    "\n",
    "Apresentando valores a serem binarizados, e a binarização das 10 primeiras instâncias."
   ]
  },
  {
   "cell_type": "code",
   "execution_count": 31,
   "metadata": {},
   "outputs": [
    {
     "name": "stdout",
     "output_type": "stream",
     "text": [
      "['angry' 'happy' 'neutral' 'sad']\n",
      "[[1 0 0 0]\n",
      " [0 0 1 0]\n",
      " [0 0 1 0]\n",
      " [0 0 1 0]\n",
      " [0 1 0 0]\n",
      " [1 0 0 0]\n",
      " [0 0 1 0]\n",
      " [0 1 0 0]\n",
      " [0 0 0 1]\n",
      " [0 0 0 1]]\n"
     ]
    }
   ],
   "source": [
    "# binarizing classes for Sentiment\n",
    "enc = LabelBinarizer()\n",
    "y_sentiment = enc.fit_transform(faces_4_df.Sentiment.values)\n",
    "sentiment_classes = enc.classes_\n",
    "print(sentiment_classes)\n",
    "print(y_sentiment[0:10])"
   ]
  },
  {
   "cell_type": "markdown",
   "metadata": {},
   "source": [
    "#### Binarizando a classe Eye\n",
    "\n",
    "Apresentando valores a serem binarizados, e a binarização das 10 primeiras instâncias."
   ]
  },
  {
   "cell_type": "code",
   "execution_count": 32,
   "metadata": {},
   "outputs": [
    {
     "name": "stdout",
     "output_type": "stream",
     "text": [
      "['open' 'sunglasses']\n",
      "[1 0 1 0 1 1 0 0 0 0]\n"
     ]
    }
   ],
   "source": [
    "# binarizing classes for Eyes\n",
    "enc = LabelBinarizer()\n",
    "y_eyes = enc.fit_transform(faces_4_df.Eyes.values).reshape(418)\n",
    "eyes_classes = enc.classes_\n",
    "print(eyes_classes)\n",
    "print(y_eyes[0:10])"
   ]
  },
  {
   "cell_type": "markdown",
   "metadata": {},
   "source": [
    "#### Removendo colunas não utilizadas\n",
    "\n",
    "A coluna **Id** não é utilizada para fins de classificação, além disso as colunas de classe (**Orientation**, **Sentiment**, **Eye**) também foram removidas para a criação do *dateset* de entrada."
   ]
  },
  {
   "cell_type": "code",
   "execution_count": 33,
   "metadata": {},
   "outputs": [],
   "source": [
    "# X dataset\n",
    "X = faces_4_df.drop(['Id','Orientation','Sentiment','Eyes'],axis=1).values"
   ]
  },
  {
   "cell_type": "markdown",
   "metadata": {},
   "source": [
    "## Treinamento de uma MLP\n",
    "\n",
    "Inicialmente desejamos verificar o comportamento prévio de um classificador MLP com relação à base de dados preparada \n",
    "a partir do preprocessamento realizado anteriormente. Para isto vamos criar 3 classificadores MLP, um para cada classificação (**Orientação**, **Sentiment**, **Eyes**) e avalia-los separadamente.\n",
    "\n",
    "A configuração arbitrária de cada MLP é:\n",
    "* Camada oculta: 1 contendo 200 neurônios\n",
    "* Método de otimização (Solver): SGD\n",
    "* Função de ativação: ReLU (**Re**ctified **L**inear **U**nit) $$ y=max(0,x) $$\n",
    "* Tolerância: $$ 10^{-9} $$, treinamento para se erro não diminuir mais que a tolerância.\n",
    "* Máximo de epócas: 500.\n",
    "\n",
    "```python\n",
    "MLPClassifier(hidden_layer_sizes=(200,),solver='sgd',activation='relu',verbose=verbose,tol=1e-9,max_iter=500)\n",
    "```\n",
    "\n",
    "O treinamento é feito a partir de um simples *train/test split* tendo o conjunto de testes 20% do total de instâncias.\n",
    "\n",
    "```python\n",
    "from sklearn.model_selection import train_test_split\n",
    "X_train, X_test, y_train, y_test = train_test_split(X,y,test_size=0.2)\n",
    "```"
   ]
  },
  {
   "cell_type": "code",
   "execution_count": 34,
   "metadata": {},
   "outputs": [],
   "source": [
    "from sklearn.model_selection import train_test_split"
   ]
  },
  {
   "cell_type": "code",
   "execution_count": 35,
   "metadata": {},
   "outputs": [],
   "source": [
    "from sklearn.neural_network import MLPClassifier"
   ]
  },
  {
   "cell_type": "code",
   "execution_count": 36,
   "metadata": {},
   "outputs": [],
   "source": [
    "def evolve_NN(X,y,name,randon_state=0,verbose=False,label_names=None):\n",
    "    X_train, X_test, y_train, y_test = train_test_split(X,y,test_size=0.2)\n",
    "    clf = MLPClassifier(hidden_layer_sizes=(200,),solver='sgd',activation='relu',verbose=verbose,tol=1e-9,max_iter=500)\n",
    "    clf.fit(X=X_train,y=y_train)\n",
    "    fig, (ax, ax1) = plt.subplots(1,2,figsize=(10,6))\n",
    "    ax.plot(np.array(clf.loss_curve_))\n",
    "    ax.set_title('Training error - MLP for '+name)\n",
    "    ax.set_xlabel(\"Epoch\")\n",
    "    ax.set_ylabel(\"Error\")\n",
    "    y_pred = clf.predict(X_test)\n",
    "    error_test = sum(abs(y_pred-y_test))/len(y_pred)\n",
    "    print(\"Test error \",name,\":\",error_test)\n",
    "    width=0.5\n",
    "    if isinstance(error_test,float):\n",
    "        ax1.bar(np.arange(1),[error_test],width)\n",
    "        ax1.set_xticks(np.arange(1) + width // 2)\n",
    "    else:\n",
    "        ax1.bar(np.arange(len(error_test)),error_test,width)\n",
    "        ax1.set_xticks(np.arange(len(error_test)) + width // 2)\n",
    "    ax1.set_ylabel('Error')\n",
    "    ax1.set_title('Test Error - '+name)\n",
    "    ax1.set_ylim([0,1])\n",
    "    ax1.set_xticklabels(label_names)\n",
    "    fig.tight_layout()\n",
    "    return {'X': {'train': X_train, 'test': X_test}, 'y': {'train': y_train, 'test': y_test}, 'clf': clf, 'y_pred': y_pred}"
   ]
  },
  {
   "cell_type": "markdown",
   "metadata": {},
   "source": [
    "### Treinamento da MLP - Eyes"
   ]
  },
  {
   "cell_type": "code",
   "execution_count": 37,
   "metadata": {},
   "outputs": [
    {
     "name": "stdout",
     "output_type": "stream",
     "text": [
      "Test error  Eyes : 0.214285714286\n"
     ]
    },
    {
     "data": {
      "image/png": "[encoded data removed]",
      "text/plain": [
       "<matplotlib.figure.Figure at 0x1a1e403198>"
      ]
     },
     "metadata": {},
     "output_type": "display_data"
    }
   ],
   "source": [
    "# NN for Eyes Classification\n",
    "eval_Eyes = evolve_NN(X=X,y=y_eyes,name='Eyes',label_names=['Eyes(Open or Sunglasses)'])"
   ]
  },
  {
   "cell_type": "markdown",
   "metadata": {},
   "source": [
    "### Treinamento MLP - Sentiment"
   ]
  },
  {
   "cell_type": "code",
   "execution_count": 38,
   "metadata": {},
   "outputs": [
    {
     "name": "stdout",
     "output_type": "stream",
     "text": [
      "Test error  Sentiment : [ 0.26190476  0.28571429  0.30952381  0.17857143]\n"
     ]
    },
    {
     "data": {
      "image/png": "[encoded data removed]",
      "text/plain": [
       "<matplotlib.figure.Figure at 0x11763e3c8>"
      ]
     },
     "metadata": {},
     "output_type": "display_data"
    }
   ],
   "source": [
    "# NN for Sentiment\n",
    "eval_Sentiment = evolve_NN(X=X,y=y_sentiment,name='Sentiment',label_names=sentiment_classes)"
   ]
  },
  {
   "cell_type": "code",
   "execution_count": 39,
   "metadata": {},
   "outputs": [
    {
     "name": "stdout",
     "output_type": "stream",
     "text": [
      "Test error  Orientation : [ 0.27380952  0.11904762  0.19047619  0.19047619]\n"
     ]
    },
    {
     "data": {
      "image/png": "[encoded data removed]",
      "text/plain": [
       "<matplotlib.figure.Figure at 0x11238d160>"
      ]
     },
     "metadata": {},
     "output_type": "display_data"
    }
   ],
   "source": [
    "# NN for Orientarion\n",
    "eval_Orientation = evolve_NN(X=X,y=y_orientation,name='Orientation',label_names=orientarion_classes)"
   ]
  },
  {
   "cell_type": "code",
   "execution_count": null,
   "metadata": {},
   "outputs": [],
   "source": []
  }
 ],
 "metadata": {
  "kernelspec": {
   "display_name": "Python 3",
   "language": "python",
   "name": "python3"
  },
  "language_info": {
   "codemirror_mode": {
    "name": "ipython",
    "version": 3
   },
   "file_extension": ".py",
   "mimetype": "text/x-python",
   "name": "python",
   "nbconvert_exporter": "python",
   "pygments_lexer": "ipython3",
   "version": "3.6.2"
  }
 },
 "nbformat": 4,
 "nbformat_minor": 2
}
